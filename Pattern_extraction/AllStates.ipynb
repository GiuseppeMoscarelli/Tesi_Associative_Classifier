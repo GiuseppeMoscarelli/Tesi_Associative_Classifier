{
 "cells": [
  {
   "cell_type": "code",
   "execution_count": 125,
   "id": "intended-printing",
   "metadata": {},
   "outputs": [],
   "source": [
    "import time\n",
    "start = time.time()"
   ]
  },
  {
   "cell_type": "code",
   "execution_count": 126,
   "id": "leading-jenny",
   "metadata": {},
   "outputs": [],
   "source": [
    "#IMPORTS\n",
    "from datetime import datetime\n",
    "from pyspark.ml.fpm import PrefixSpan\n",
    "from pyspark.sql import Row\n",
    "import pyspark.sql.functions as F\n",
    "from math import sin, cos, sqrt, atan2, radians \n",
    "import pandas as pd\n",
    "import numpy as np\n",
    "import sys\n",
    "import matplotlib.pyplot as plt\n",
    "import operator"
   ]
  },
  {
   "cell_type": "code",
   "execution_count": null,
   "id": "inner-warning",
   "metadata": {},
   "outputs": [],
   "source": [
    "#parameters\n",
    "support=0.05\n",
    "support_str = \"005\" #used for paths\n",
    "interval=15 #time window\n",
    "maxDelta=3 #how many delta\n",
    "th=1 #distance\n",
    "window_size=4 #window size"
   ]
  },
  {
   "cell_type": "code",
   "execution_count": 127,
   "id": "correct-dealing",
   "metadata": {},
   "outputs": [],
   "source": [
    "#FILES\n",
    "inputPath  = \"file:///home/bigdata-01QYD/s270240/bike_sharing/filtered_status.csv\"\n",
    "STATION_PATH=\"file:///home/bigdata-01QYD/s270240/bike_sharing/station.csv\"\n",
    "#save file of first filter\n",
    "output_file=f'./Results_extraction/AllStates/AllStates_{interval}_{th*1000}_{support_str}({window_size}-{maxDelta})/results_{th*1000}_{support_str}_ordered_by_confidence.txt'\n",
    "# output_file2='results_1000_0_QuasiVuota_Vuota_ordered_by_confidence.txt'\n",
    "output_file3=f'./Results_extraction/AllStates/AllStates_{interval}_{th*1000}_{support_str}({window_size}-{maxDelta})/results_{th*1000}_{support_str}_diff_delta_ordered_by_confidence.txt'\n",
    "output_file4=f'./Results_extraction/AllStates/AllStates_{interval}_{th*1000}_{support_str}({window_size}-{maxDelta})/results_{th*1000}_{support_str}_ordered_by_support.txt'\n",
    "# output_file5='results_1000_0_QuasiVuota_Vuota_ordered_by_support.txt'\n",
    "output_file6=f'./Results_extraction/AllStates/AllStates_{interval}_{th*1000}_{support_str}({window_size}-{maxDelta})/results_{th*1000}_{support_str}_diff_delta_ordered_by_support.txt'\n",
    "img_support=f'{window_size}-{maxDelta}-{th*1000}-{support_str}.jpg'"
   ]
  },
  {
   "cell_type": "code",
   "execution_count": 128,
   "id": "norwegian-hughes",
   "metadata": {},
   "outputs": [],
   "source": [
    "inputDF = spark.read.format(\"csv\")\\\n",
    ".option(\"delimiter\", \",\")\\\n",
    ".option(\"header\", True)\\\n",
    ".option(\"inferSchema\", True).load(inputPath)"
   ]
  },
  {
   "cell_type": "code",
   "execution_count": 129,
   "id": "contained-luxury",
   "metadata": {},
   "outputs": [],
   "source": [
    "inputDF=inputDF.filter(\"bikes_available is not null\")"
   ]
  },
  {
   "cell_type": "code",
   "execution_count": 131,
   "id": "painted-bundle",
   "metadata": {},
   "outputs": [],
   "source": [
    "#filter for these fields\n",
    "filteredDF = inputDF.filter(\"docks_available<>0 OR bikes_available<>0\")"
   ]
  },
  {
   "cell_type": "code",
   "execution_count": 132,
   "id": "sixth-landscape",
   "metadata": {},
   "outputs": [],
   "source": [
    "#determine if the station is empty, almost empty, full or almost full\n",
    "def stateFunction(docks_available,bikes_available):\n",
    "    if bikes_available==0: #empty\n",
    "        return 1\n",
    "    elif (bikes_available==1 or bikes_available==2): #almost empty\n",
    "        return 0\n",
    "    elif docks_available ==0: #full\n",
    "        return 2\n",
    "    elif (docks_available==1 or docks_available==2): #almost full\n",
    "        return 3    \n",
    "    else:\n",
    "        return 4"
   ]
  },
  {
   "cell_type": "code",
   "execution_count": 133,
   "id": "technological-gabriel",
   "metadata": {},
   "outputs": [
    {
     "data": {
      "text/plain": [
       "<function __main__.stateFunction(docks_available, bikes_available)>"
      ]
     },
     "execution_count": 133,
     "metadata": {},
     "output_type": "execute_result"
    }
   ],
   "source": [
    "spark.udf.register(\"state\", stateFunction)"
   ]
  },
  {
   "cell_type": "code",
   "execution_count": 134,
   "id": "colonial-exposure",
   "metadata": {},
   "outputs": [],
   "source": [
    "def getInt(station):\n",
    "    return (station)"
   ]
  },
  {
   "cell_type": "code",
   "execution_count": 135,
   "id": "successful-fluid",
   "metadata": {},
   "outputs": [
    {
     "data": {
      "text/plain": [
       "<function __main__.getInt(station)>"
      ]
     },
     "execution_count": 135,
     "metadata": {},
     "output_type": "execute_result"
    }
   ],
   "source": [
    "spark.udf.register(\"intValue\", getInt)"
   ]
  },
  {
   "cell_type": "code",
   "execution_count": 136,
   "id": "planned-electric",
   "metadata": {},
   "outputs": [],
   "source": [
    "getStatusDF = filteredDF.selectExpr(\"station_id\",\"time\", \"state(docks_available,bikes_available) as status\")"
   ]
  },
  {
   "cell_type": "code",
   "execution_count": 137,
   "id": "fifteen-poker",
   "metadata": {},
   "outputs": [],
   "source": [
    "#getStatusDF.show(100,False)"
   ]
  },
  {
   "cell_type": "code",
   "execution_count": 138,
   "id": "global-assembly",
   "metadata": {},
   "outputs": [],
   "source": [
    "#filter only empty or almost empty stations\n",
    "allStates=getStatusDF.filter(\"status==1  or status==0 or status==2  or status==3\")"
   ]
  },
  {
   "cell_type": "code",
   "execution_count": 139,
   "id": "instant-address",
   "metadata": {},
   "outputs": [],
   "source": [
    "allStates_count = allStates.count()"
   ]
  },
  {
   "cell_type": "code",
   "execution_count": 140,
   "id": "parental-computer",
   "metadata": {},
   "outputs": [
    {
     "data": {
      "text/plain": [
       "7.869858960895086"
      ]
     },
     "execution_count": 140,
     "metadata": {},
     "output_type": "execute_result"
    }
   ],
   "source": [
    "allStates_count/getStatusDF.count()*100"
   ]
  },
  {
   "cell_type": "code",
   "execution_count": 141,
   "id": "empty-barrier",
   "metadata": {},
   "outputs": [
    {
     "name": "stdout",
     "output_type": "stream",
     "text": [
      "+-------+-----------------+------------------+\n",
      "|summary|       station_id|            status|\n",
      "+-------+-----------------+------------------+\n",
      "|  count|          5664560|           5664560|\n",
      "|   mean|49.71981707317073| 1.282092872173655|\n",
      "| stddev| 21.6347726260795|1.3787953571083422|\n",
      "|    min|                2|                 0|\n",
      "|    max|               84|                 3|\n",
      "+-------+-----------------+------------------+\n",
      "\n"
     ]
    }
   ],
   "source": [
    "allStates.describe().show()"
   ]
  },
  {
   "cell_type": "code",
   "execution_count": 142,
   "id": "toxic-bryan",
   "metadata": {},
   "outputs": [],
   "source": [
    "#create a view\n",
    "allStates.createOrReplaceTempView(\"readings\")"
   ]
  },
  {
   "cell_type": "code",
   "execution_count": 143,
   "id": "informative-desktop",
   "metadata": {},
   "outputs": [],
   "source": [
    "#select station, year, month, day, hour, minute, status ordered by time\n",
    "ss=spark.sql(\"\"\"SELECT  station_id , YEAR(time) as year, MONTH(time) as month, DAY(time) as day, HOUR(time)as hour, MINUTE(time) as minute, status\n",
    "FROM readings\n",
    "GROUP BY station_id, year, month, day,hour,minute, status\n",
    "ORDER BY  station_id,year, month,day, hour,minute\n",
    "\"\"\")"
   ]
  },
  {
   "cell_type": "code",
   "execution_count": 144,
   "id": "finished-tactics",
   "metadata": {},
   "outputs": [],
   "source": [
    "#create rdd and group into interval\n",
    "my_rdd=ss.rdd.map(tuple)\n",
    "rdd=my_rdd.map(lambda line: (line[0],line[1],line[2], line[3], line[4], int(line[5]/interval), line[6])).distinct()\n",
    "# rdd.collect()\n",
    "\n",
    "#  [(32, 2014, 8, 19, 19, 1, '0'),\n",
    "#  (32, 2014, 8, 20, 17, 0, '1'),\n",
    "#  (32, 2014, 9, 4, 19, 1, '0'),\n",
    "#  (32, 2014, 9, 5, 8, 1, '0'),\n",
    "#  (32, 2014, 9, 5, 16, 1, '0'),\n",
    "#  (32, 2014, 10, 16, 7, 0, '0'),, ... ]"
   ]
  },
  {
   "cell_type": "code",
   "execution_count": 145,
   "id": "missing-polish",
   "metadata": {},
   "outputs": [],
   "source": [
    "#get distinct stations to calculate distances\n",
    "id_stations=rdd.map(lambda line: line[0]).distinct()"
   ]
  },
  {
   "cell_type": "code",
   "execution_count": 146,
   "id": "affecting-boulder",
   "metadata": {},
   "outputs": [],
   "source": [
    "tot_id_stations=id_stations.collect()"
   ]
  },
  {
   "cell_type": "code",
   "execution_count": 147,
   "id": "contained-stupid",
   "metadata": {},
   "outputs": [],
   "source": [
    "#list of all stations\n",
    "#tot_id_stations"
   ]
  },
  {
   "cell_type": "code",
   "execution_count": 148,
   "id": "express-street",
   "metadata": {},
   "outputs": [],
   "source": [
    "#obtain timestamp and info\n",
    "def getMap(line):\n",
    "    id_station=str(line[0])\n",
    "    year=int(line[1])\n",
    "    month=int(line[2])\n",
    "    day=int(line[3])\n",
    "    hour=int(line[4])\n",
    "    minute=int(line[5])   \n",
    "    timestamp= datetime(year,month, day, hour, minute)  \n",
    "    status=int(line[6])\n",
    "    if status==0:\n",
    "        status='QuasiVuota'\n",
    "    elif status==1:\n",
    "        status='Vuota'\n",
    "    elif status==2:\n",
    "        status='Piena'\n",
    "    elif status==3:\n",
    "        status='QuasiPiena'\n",
    "    info=id_station.split('.')[0]+'_'+status\n",
    "    return ( (timestamp,info))"
   ]
  },
  {
   "cell_type": "code",
   "execution_count": 149,
   "id": "electronic-advice",
   "metadata": {},
   "outputs": [],
   "source": [
    "get_map=rdd.map(getMap)\n",
    "# get_map.collect()\n",
    "\n",
    "# [(datetime.datetime(2014, 4, 18, 14, 1), '10_QuasiVuota'),\n",
    "#  (datetime.datetime(2014, 6, 12, 14, 1), '10_Vuota'),\n",
    "#  (datetime.datetime(2014, 7, 30, 13, 1), '10_Vuota'),\n",
    "#  (datetime.datetime(2015, 8, 5, 16, 0), '54_QuasiPiena'),\n",
    "#  (datetime.datetime(2013, 9, 9, 10, 1), '55_QuasiVuota'),\n",
    "#  (datetime.datetime(2013, 10, 3, 5, 0), '55_Piena'), ...]"
   ]
  },
  {
   "cell_type": "code",
   "execution_count": 150,
   "id": "consolidated-generator",
   "metadata": {},
   "outputs": [],
   "source": [
    "#for each timestamp obtain info\n",
    "reduceK=get_map.reduceByKey(lambda l1,l2 :(l1+','+l2)).sortByKey()\n",
    "# reduceK.collect()\n",
    "\n",
    "# [(datetime.datetime(2013, 8, 29, 10, 0),\n",
    "#   '59_QuasiVuota,67_QuasiVuota,70_QuasiVuota,6_QuasiVuota,16_QuasiVuota,67_Vuota,4_Vuota,2_QuasiVuota,13_Vuota,70_Vuota,7_Vuota'),\n",
    "#  (datetime.datetime(2013, 8, 29, 10, 1),\n",
    "#   '16_QuasiVuota,59_QuasiVuota,2_QuasiVuota,67_Vuota,67_QuasiVuota,4_Vuota,64_QuasiPiena,60_QuasiPiena,70_QuasiVuota,69_QuasiVuota,45_Piena,7_Vuota,13_QuasiVuota,7_QuasiVuota,73_QuasiVuota,13_Vuota,45_QuasiPiena'),\n",
    "#  (datetime.datetime(2013, 8, 29, 11, 0),\n",
    "#   '64_QuasiPiena,64_Piena,67_QuasiVuota,45_Piena,69_QuasiVuota,2_QuasiVuota,73_QuasiVuota,4_Vuota,67_Vuota,4_QuasiVuota,45_QuasiPiena,70_QuasiVuota,16_QuasiVuota'),\n",
    "#  (datetime.datetime(2013, 8, 29, 11, 1),\n",
    "#   '69_QuasiVuota,67_QuasiVuota,73_QuasiVuota,64_QuasiPiena,2_QuasiVuota,16_QuasiVuota,35_QuasiPiena'),\n",
    "#  (datetime.datetime(2013, 8, 29, 12, 0), ...]"
   ]
  },
  {
   "cell_type": "code",
   "execution_count": 151,
   "id": "approved-pontiac",
   "metadata": {},
   "outputs": [],
   "source": [
    "my_df=reduceK.toDF()\n",
    "#my_df.collect()"
   ]
  },
  {
   "cell_type": "code",
   "execution_count": 152,
   "id": "possible-december",
   "metadata": {},
   "outputs": [],
   "source": [
    "my_df.createOrReplaceTempView(\"view\")"
   ]
  },
  {
   "cell_type": "code",
   "execution_count": 153,
   "id": "bulgarian-thumb",
   "metadata": {},
   "outputs": [],
   "source": [
    "s2=spark.sql(\"\"\"SELECT ROW_NUMBER() OVER(ORDER BY _1,_2) as id ,_1, _2\n",
    "FROM view \"\"\")"
   ]
  },
  {
   "cell_type": "code",
   "execution_count": 154,
   "id": "cheap-asset",
   "metadata": {},
   "outputs": [],
   "source": [
    "#identifier of the timestamp, info\n",
    "rdd_scheme=s2.rdd.map(tuple).map(lambda line: (line[0], line[2]))\n",
    "# rdd_scheme.collect()\n",
    "\n",
    "# [(1, '59_QuasiVuota,67_QuasiVuota,70_QuasiVuota,6_QuasiVuota,16_QuasiVuota,67_Vuota,4_Vuota,2_QuasiVuota,13_Vuota,70_Vuota,7_Vuota'),\n",
    "#  (2, '16_QuasiVuota,59_QuasiVuota,2_QuasiVuota,67_Vuota,67_QuasiVuota,4_Vuota,64_QuasiPiena,60_QuasiPiena,70_QuasiVuota,69_QuasiVuota,45_Piena,7_Vuota,13_QuasiVuota,7_QuasiVuota,73_QuasiVuota,13_Vuota,45_QuasiPiena'),\n",
    "#  (3, '64_QuasiPiena,64_Piena,67_QuasiVuota,45_Piena,69_QuasiVuota,2_QuasiVuota,73_QuasiVuota,4_Vuota,67_Vuota,4_QuasiVuota,45_QuasiPiena,70_QuasiVuota,16_QuasiVuota'),\n",
    "#  (4, '69_QuasiVuota,67_QuasiVuota,73_QuasiVuota,64_QuasiPiena,2_QuasiVuota,16_QuasiVuota,35_QuasiPiena'),\n",
    "#  (5, '16_QuasiVuota,69_QuasiVuota,73_QuasiVuota,69_Vuota,2_QuasiVuota,35_QuasiPiena,64_QuasiPiena,60_QuasiPiena'), ...]"
   ]
  },
  {
   "cell_type": "code",
   "execution_count": 155,
   "id": "mighty-practitioner",
   "metadata": {},
   "outputs": [],
   "source": [
    "#obtain window, station-status\n",
    "def giveSplit(line):   \n",
    "    id_window=( int(line[0] ))\n",
    "    lista=[]    \n",
    "    counter=id_window    \n",
    "    while counter>=1:\n",
    "        lista.append(('Window '+str(counter),(line[1])))\n",
    "        counter=counter-1\n",
    "        if (id_window-counter)==window_size:\n",
    "            return lista  \n",
    "    return lista"
   ]
  },
  {
   "cell_type": "code",
   "execution_count": 156,
   "id": "discrete-corpus",
   "metadata": {},
   "outputs": [],
   "source": [
    "mapData=rdd_scheme.flatMap(giveSplit)\n",
    "# mapData.collect()\n",
    "\n",
    "# [('Window 1',\n",
    "#   '59_QuasiVuota,67_QuasiVuota,70_QuasiVuota,6_QuasiVuota,16_QuasiVuota,67_Vuota,4_Vuota,2_QuasiVuota,13_Vuota,70_Vuota,7_Vuota'),\n",
    "#  ('Window 2',\n",
    "#   '16_QuasiVuota,59_QuasiVuota,2_QuasiVuota,67_Vuota,67_QuasiVuota,4_Vuota,64_QuasiPiena,60_QuasiPiena,70_QuasiVuota,69_QuasiVuota,45_Piena,7_Vuota,13_QuasiVuota,7_QuasiVuota,73_QuasiVuota,13_Vuota,45_QuasiPiena'),\n",
    "#  ('Window 1',\n",
    "#   '16_QuasiVuota,59_QuasiVuota,2_QuasiVuota,67_Vuota,67_QuasiVuota,4_Vuota,64_QuasiPiena,60_QuasiPiena,70_QuasiVuota,69_QuasiVuota,45_Piena,7_Vuota,13_QuasiVuota,7_QuasiVuota,73_QuasiVuota,13_Vuota,45_QuasiPiena'),\n",
    "#  ('Window 3',\n",
    "#   '64_QuasiPiena,64_Piena,67_QuasiVuota,45_Piena,69_QuasiVuota,2_QuasiVuota,73_QuasiVuota,4_Vuota,67_Vuota,4_QuasiVuota,45_QuasiPiena,70_QuasiVuota,16_QuasiVuota'),\n",
    "#  ('Window 2',\n",
    "#   '64_QuasiPiena,64_Piena,67_QuasiVuota,45_Piena,69_QuasiVuota,2_QuasiVuota,73_QuasiVuota,4_Vuota,67_Vuota,4_QuasiVuota,45_QuasiPiena,70_QuasiVuota,16_QuasiVuota'), ...]"
   ]
  },
  {
   "cell_type": "code",
   "execution_count": 157,
   "id": "unsigned-robertson",
   "metadata": {},
   "outputs": [],
   "source": [
    "# for each window get all info\n",
    "all_keys=mapData.reduceByKey(lambda l1,l2:(l1+'-'+l2))"
   ]
  },
  {
   "cell_type": "code",
   "execution_count": 158,
   "id": "suspected-motivation",
   "metadata": {},
   "outputs": [],
   "source": [
    "# all_keys.collect()\n",
    "\n",
    "# [('Window 1',\n",
    "#   '59_QuasiVuota,67_QuasiVuota,70_QuasiVuota,6_QuasiVuota,16_QuasiVuota,67_Vuota,4_Vuota,2_QuasiVuota,13_Vuota,70_Vuota,7_Vuota-16_QuasiVuota,59_QuasiVuota,2_QuasiVuota,67_Vuota,67_QuasiVuota,4_Vuota,64_QuasiPiena,60_QuasiPiena,70_QuasiVuota,69_QuasiVuota,45_Piena,7_Vuota,13_QuasiVuota,7_QuasiVuota,73_QuasiVuota,13_Vuota,45_QuasiPiena-64_QuasiPiena,64_Piena,67_QuasiVuota,45_Piena,69_QuasiVuota,2_QuasiVuota,73_QuasiVuota,4_Vuota,67_Vuota,4_QuasiVuota,45_QuasiPiena,70_QuasiVuota,16_QuasiVuota'),\n",
    "#  ('Window 2',\n",
    "#   '16_QuasiVuota,59_QuasiVuota,2_QuasiVuota,67_Vuota,67_QuasiVuota,4_Vuota,64_QuasiPiena,60_QuasiPiena,70_QuasiVuota,69_QuasiVuota,45_Piena,7_Vuota,13_QuasiVuota,7_QuasiVuota,73_QuasiVuota,13_Vuota,45_QuasiPiena-64_QuasiPiena,64_Piena,67_QuasiVuota,45_Piena,69_QuasiVuota,2_QuasiVuota,73_QuasiVuota,4_Vuota,67_Vuota,4_QuasiVuota,45_QuasiPiena,70_QuasiVuota,16_QuasiVuota-69_QuasiVuota,67_QuasiVuota,73_QuasiVuota,64_QuasiPiena,2_QuasiVuota,16_QuasiVuota,35_QuasiPiena'),\n",
    "#  ... ]"
   ]
  },
  {
   "cell_type": "code",
   "execution_count": 159,
   "id": "refined-window",
   "metadata": {},
   "outputs": [],
   "source": [
    "#finestra temporale\n",
    "def reduceKeys(line):   \n",
    "    lista=[]\n",
    "    #lista.append(line[0])\n",
    "    line_split=line[1].split(\"-\")\n",
    "    #return line_split[0]\n",
    "    count=len(line_split)\n",
    "    tot=[]\n",
    "    for val in range(count):\n",
    "        li=[]\n",
    "        stations=line_split[val].split(',')\n",
    "        for st in stations:\n",
    "            all_string_st=st.split('_')[0]+'_'+'T'+str(val)+'_'+st.split('_')[1]\n",
    "            li.append(all_string_st)\n",
    "        tot.append(li)\n",
    "    lista.append((line[0],(tot))) \n",
    "    return lista"
   ]
  },
  {
   "cell_type": "code",
   "execution_count": 160,
   "id": "continuous-person",
   "metadata": {},
   "outputs": [],
   "source": [
    "windows=all_keys.flatMap(reduceKeys)"
   ]
  },
  {
   "cell_type": "code",
   "execution_count": 161,
   "id": "figured-frontier",
   "metadata": {},
   "outputs": [],
   "source": [
    "# windows.collect()\n",
    "\n",
    "# [('Window 1',\n",
    "#   [['59_T0_QuasiVuota', '67_T0_QuasiVuota', '70_T0_QuasiVuota', '6_T0_QuasiVuota', '16_T0_QuasiVuota', '67_T0_Vuota', '4_T0_Vuota', '2_T0_QuasiVuota', '13_T0_Vuota', '70_T0_Vuota', '7_T0_Vuota'],\n",
    "#    ['16_T1_QuasiVuota', '59_T1_QuasiVuota', '2_T1_QuasiVuota', '67_T1_Vuota', '67_T1_QuasiVuota', '4_T1_Vuota', '64_T1_QuasiPiena', '60_T1_QuasiPiena', '70_T1_QuasiVuota', '69_T1_QuasiVuota', '45_T1_Piena', '7_T1_Vuota', '13_T1_QuasiVuota', '7_T1_QuasiVuota', '73_T1_QuasiVuota', '13_T1_Vuota', '45_T1_QuasiPiena'],\n",
    "#    ['64_T2_QuasiPiena', '64_T2_Piena', '67_T2_QuasiVuota', '45_T2_Piena', '69_T2_QuasiVuota', '2_T2_QuasiVuota', '73_T2_QuasiVuota', '4_T2_Vuota', '67_T2_Vuota', '4_T2_QuasiVuota', '45_T2_QuasiPiena', '70_T2_QuasiVuota', '16_T2_QuasiVuota']]),\n",
    "#  ('Window 2',\n",
    "#   [['16_T0_QuasiVuota', '59_T0_QuasiVuota', '2_T0_QuasiVuota', '67_T0_Vuota', '67_T0_QuasiVuota', '4_T0_Vuota', '60_T0_QuasiPiena', '64_T0_QuasiPiena', '70_T0_QuasiVuota', '69_T0_QuasiVuota', '45_T0_Piena', '7_T0_Vuota', '13_T0_QuasiVuota', '7_T0_QuasiVuota', '73_T0_QuasiVuota', '13_T0_Vuota', '45_T0_QuasiPiena'],\n",
    "#    ['64_T1_QuasiPiena', '64_T1_Piena', '67_T1_QuasiVuota', '45_T1_Piena', '69_T1_QuasiVuota', '2_T1_QuasiVuota', '73_T1_QuasiVuota', '4_T1_Vuota', '67_T1_Vuota', '4_T1_QuasiVuota', '45_T1_QuasiPiena', '70_T1_QuasiVuota', '16_T1_QuasiVuota'],\n",
    "#    ['69_T2_QuasiVuota', '67_T2_QuasiVuota', '73_T2_QuasiVuota', '64_T2_QuasiPiena', '2_T2_QuasiVuota', '16_T2_QuasiVuota', '35_T2_QuasiPiena']]), ...]\n"
   ]
  },
  {
   "cell_type": "code",
   "execution_count": 162,
   "id": "laden-commerce",
   "metadata": {},
   "outputs": [],
   "source": [
    "#save station file\n",
    "stationsDF = spark.read.format(\"csv\")\\\n",
    ".option(\"delimiter\", \",\")\\\n",
    ".option(\"header\", True)\\\n",
    ".option(\"inferSchema\", True).load(STATION_PATH)"
   ]
  },
  {
   "cell_type": "code",
   "execution_count": 163,
   "id": "pacific-hypothetical",
   "metadata": {},
   "outputs": [],
   "source": [
    "#get only rows interested: only the used stations \n",
    "necessary_rows=stationsDF.filter(F.col(\"id\").isin(tot_id_stations)).sort(\"id\").rdd.map(tuple)"
   ]
  },
  {
   "cell_type": "code",
   "execution_count": 164,
   "id": "searching-valuation",
   "metadata": {},
   "outputs": [],
   "source": [
    "#necessary_rows.collect()"
   ]
  },
  {
   "cell_type": "code",
   "execution_count": 165,
   "id": "italic-playback",
   "metadata": {},
   "outputs": [],
   "source": [
    "#get info of stations about coordinates and name\n",
    "coordinates=necessary_rows.map(lambda line: (line[0],(str(line[2])+','+str(line[3]))))\n",
    "names_stations=necessary_rows.map(lambda line: (line[0],line[1]))"
   ]
  },
  {
   "cell_type": "code",
   "execution_count": 166,
   "id": "preceding-scratch",
   "metadata": {},
   "outputs": [],
   "source": [
    "list_coo=coordinates.collect()\n",
    "# list_coo\n",
    "\n",
    "# [(2, '37.329732,-121.90178200000001'),\n",
    "#  (3, '37.330698,-121.888979'),\n",
    "#  (4, '37.333988,-121.894902'),\n",
    "#  (5, '37.331415,-121.8932'), ...]"
   ]
  },
  {
   "cell_type": "code",
   "execution_count": 167,
   "id": "established-russian",
   "metadata": {},
   "outputs": [],
   "source": [
    "#create a dictionary in which the key is the station and value is the info about coordinates\n",
    "dic_co=coordinates.collectAsMap()\n",
    "dic_coordinates=sc.broadcast(dic_co)\n",
    "#dic_coordinates.value"
   ]
  },
  {
   "cell_type": "code",
   "execution_count": 168,
   "id": "upset-queens",
   "metadata": {},
   "outputs": [],
   "source": [
    "#function to retrieve distance between 2 stations\n",
    "def getDistance(station1,station2):\n",
    "    # approximate radius of earth in km\n",
    "    R = 6373.0    \n",
    "    lat_a=float(station1.split(',')[0])\n",
    "    lat_b=float(station2.split(',')[0])\n",
    "    long_a=float(station1.split(',')[1])\n",
    "    long_b=float(station2.split(',')[1])\n",
    "    \n",
    "    lat1=radians(lat_a)\n",
    "    lat2=radians(lat_b)\n",
    "    lon1=radians(long_a)\n",
    "    lon2=radians(long_b)\n",
    "    \n",
    "    dlon = lon2 - lon1\n",
    "    dlat = lat2 - lat1\n",
    "\n",
    "    a = sin(dlat / 2)**2 + cos(lat1) * cos(lat2) * sin(dlon / 2)**2\n",
    "    c = 2 * atan2(sqrt(a), sqrt(1 - a))\n",
    "\n",
    "    distance = R * c\n",
    "    return distance"
   ]
  },
  {
   "cell_type": "code",
   "execution_count": 169,
   "id": "practical-moses",
   "metadata": {},
   "outputs": [],
   "source": [
    "#voc in which the key is a pair of stations and value is the distance\n",
    "voc_distances={}\n",
    "for i in range(len(list_coo)):\n",
    "    for j in range(i+1,len(list_coo)):\n",
    "        station1=list_coo[i][0]\n",
    "        station2=list_coo[j][0]\n",
    "        d_i=list_coo[i][1]\n",
    "        d_j=list_coo[j][1]\n",
    "        distance=getDistance(d_i,d_j)\n",
    "        id_stations=str(station1)+' '+str(station2)\n",
    "        voc_distances[id_stations]=distance"
   ]
  },
  {
   "cell_type": "code",
   "execution_count": 170,
   "id": "minute-minneapolis",
   "metadata": {},
   "outputs": [
    {
     "data": {
      "text/plain": [
       "1.1374454650255135"
      ]
     },
     "execution_count": 170,
     "metadata": {},
     "output_type": "execute_result"
    }
   ],
   "source": [
    "voc_distances['2 3']"
   ]
  },
  {
   "cell_type": "code",
   "execution_count": 171,
   "id": "gothic-brick",
   "metadata": {},
   "outputs": [],
   "source": [
    "#voc_distances"
   ]
  },
  {
   "cell_type": "code",
   "execution_count": 172,
   "id": "brief-stanley",
   "metadata": {},
   "outputs": [],
   "source": [
    "#Applicazione “Delta Spaziale”\n",
    "def giveSpatialWindow(line):\n",
    "    lista=[]    \n",
    "    time0=line[1][0]    \n",
    "    dic={}\n",
    "    \n",
    "    count_windows=len(line[1])#tot windows\n",
    "\n",
    "    for station in time0:# only first window\n",
    "        act_station=int(station.split('_')[0])\n",
    "        #lista_station=[] \n",
    "        list_tmp=[]\n",
    "        \n",
    "        #for each window\n",
    "        for i,window in enumerate(line[1]):           \n",
    "            second_lista=[]\n",
    "            #for each element of a window\n",
    "            for all_el in window :\n",
    "                #second_lista=[]\n",
    "                act_all_el=int(all_el.split('_')[0])\n",
    "                state=all_el.split('_')[2]\n",
    "               \n",
    "                if act_station!=act_all_el:\n",
    "                    \n",
    "                    key=''\n",
    "                    if act_station<act_all_el:\n",
    "                        key=str(act_station)+' '+str(act_all_el)\n",
    "                    else:\n",
    "                        key=str(act_all_el)+' '+str(act_station)                    \n",
    "                    \n",
    "                    dist=voc_distances[key]\n",
    "                    if dist<=maxDelta*th:\n",
    "                        delta=0\n",
    "                        for d in range(1,maxDelta+1):\n",
    "                            if d*th>=dist:\n",
    "                                delta=d\n",
    "                                break                        \n",
    "                        string=state+'_'+'T'+str(i)+'_'+str(delta)\n",
    "                        second_lista.append(string)\n",
    "                else:\n",
    "                    string=state+'_'+'T'+str(i)+'_'+str(0)\n",
    "                    second_lista.append(string)\n",
    "                    \n",
    "            if len(second_lista)>0:\n",
    "                list_tmp.append(second_lista)\n",
    "        lista.append(((line[0]+'|'+str(act_station)),list_tmp))\n",
    "    \n",
    "    return lista"
   ]
  },
  {
   "cell_type": "code",
   "execution_count": 173,
   "id": "exterior-pipeline",
   "metadata": {},
   "outputs": [
    {
     "name": "stdout",
     "output_type": "stream",
     "text": [
      "477524\n"
     ]
    }
   ],
   "source": [
    "spatial_app=windows.flatMap(giveSpatialWindow)\n",
    "print(spatial_app.count())"
   ]
  },
  {
   "cell_type": "code",
   "execution_count": 174,
   "id": "sensitive-preparation",
   "metadata": {},
   "outputs": [],
   "source": [
    "# spatial_app.collect()"
   ]
  },
  {
   "cell_type": "code",
   "execution_count": 175,
   "id": "average-transsexual",
   "metadata": {},
   "outputs": [],
   "source": [
    "def row_seq(line):\n",
    "    true=line[1]\n",
    "    string=Row(sequence=true)\n",
    "    return string"
   ]
  },
  {
   "cell_type": "code",
   "execution_count": 176,
   "id": "parliamentary-spiritual",
   "metadata": {},
   "outputs": [],
   "source": [
    "spatial=spatial_app.map(row_seq)"
   ]
  },
  {
   "cell_type": "code",
   "execution_count": 177,
   "id": "superb-trunk",
   "metadata": {},
   "outputs": [
    {
     "name": "stdout",
     "output_type": "stream",
     "text": [
      "477524\n"
     ]
    }
   ],
   "source": [
    "#create a dataframe\n",
    "df=spatial.toDF()\n",
    "print(df.count())"
   ]
  },
  {
   "cell_type": "code",
   "execution_count": 178,
   "id": "coordinated-astrology",
   "metadata": {},
   "outputs": [],
   "source": [
    "supports=[support]"
   ]
  },
  {
   "cell_type": "code",
   "execution_count": 179,
   "id": "severe-track",
   "metadata": {},
   "outputs": [
    {
     "name": "stdout",
     "output_type": "stream",
     "text": [
      "+---------------------------------------------------------------------------------------------------------------------------------------------------------------------------------------------------------------------------------------------------------------------------------------------------------------------------------------------------------------------------------+\n",
      "|sequence                                                                                                                                                                                                                                                                                                                                                                         |\n",
      "+---------------------------------------------------------------------------------------------------------------------------------------------------------------------------------------------------------------------------------------------------------------------------------------------------------------------------------------------------------------------------------+\n",
      "|[[Vuota_T0_0, Vuota_T0_1, QuasiVuota_T0_2, QuasiVuota_T0_1, QuasiVuota_T0_2, Vuota_T0_1], [Vuota_T1_1, Vuota_T1_0, Vuota_T1_1, QuasiVuota_T1_2, QuasiVuota_T1_2, QuasiVuota_T1_1], [QuasiVuota_T2_2, QuasiVuota_T2_2, QuasiVuota_T2_1, Vuota_T2_0, Vuota_T2_1, Vuota_T2_1], [Vuota_T3_0, QuasiVuota_T3_0, QuasiVuota_T3_2, QuasiVuota_T3_2, Vuota_T3_1]]                         |\n",
      "|[[QuasiVuota_T0_0, QuasiVuota_T0_1, Vuota_T0_3], [QuasiVuota_T1_3, QuasiVuota_T1_1, QuasiVuota_T1_0, Vuota_T1_3, Vuota_T1_1], [QuasiVuota_T2_3, QuasiPiena_T2_2, Vuota_T2_1, QuasiVuota_T2_3, QuasiPiena_T2_3, QuasiVuota_T2_0, Piena_T2_2, QuasiVuota_T2_3], [QuasiPiena_T3_3, QuasiPiena_T3_3, Piena_T3_2, QuasiVuota_T3_3, QuasiVuota_T3_3, QuasiVuota_T3_1, QuasiVuota_T3_3]]|\n",
      "|[[Vuota_T0_1, Vuota_T0_0, QuasiVuota_T0_2, QuasiVuota_T0_1, QuasiVuota_T0_1, Vuota_T0_1], [Vuota_T1_0, Vuota_T1_1, Vuota_T1_1, QuasiVuota_T1_2, QuasiVuota_T1_1, QuasiVuota_T1_1], [QuasiVuota_T2_1, QuasiVuota_T2_2, QuasiVuota_T2_0, Vuota_T2_1, Vuota_T2_0, Vuota_T2_1], [Vuota_T3_1, QuasiVuota_T3_1, QuasiVuota_T3_2, QuasiVuota_T3_1, Vuota_T3_1]]                         |\n",
      "|[[QuasiVuota_T0_1, QuasiVuota_T0_0, Vuota_T0_2], [QuasiVuota_T1_2, QuasiVuota_T1_0, QuasiVuota_T1_1, Vuota_T1_2, Vuota_T1_0], [QuasiVuota_T2_2, QuasiPiena_T2_3, Vuota_T2_0, QuasiVuota_T2_2, QuasiPiena_T2_3, QuasiVuota_T2_1, Piena_T2_3, QuasiVuota_T2_3], [QuasiPiena_T3_3, Piena_T3_3, QuasiVuota_T3_2, QuasiVuota_T3_3, QuasiVuota_T3_0, QuasiVuota_T3_2]]                 |\n",
      "|[[Vuota_T0_2, Vuota_T0_2, QuasiVuota_T0_0, QuasiVuota_T0_2, QuasiVuota_T0_3, Vuota_T0_1], [Vuota_T1_2, Vuota_T1_2, Vuota_T1_1, QuasiVuota_T1_0, QuasiVuota_T1_3, QuasiVuota_T1_2], [QuasiVuota_T2_3, QuasiVuota_T2_0, QuasiVuota_T2_2, Vuota_T2_2, Vuota_T2_2, Vuota_T2_1], [Vuota_T3_2, QuasiVuota_T3_2, QuasiVuota_T3_0, QuasiVuota_T3_3, Vuota_T3_1]]                         |\n",
      "|[[QuasiVuota_T0_3, QuasiVuota_T0_2, Vuota_T0_0], [QuasiVuota_T1_0, QuasiVuota_T1_2, QuasiVuota_T1_3, Vuota_T1_0, Vuota_T1_2], [QuasiVuota_T2_1, QuasiPiena_T2_3, Vuota_T2_2, QuasiVuota_T2_0, QuasiPiena_T2_1, QuasiVuota_T2_3, Piena_T2_3, QuasiVuota_T2_3], [QuasiPiena_T3_1, Piena_T3_3, QuasiVuota_T3_1, QuasiVuota_T3_3, QuasiVuota_T3_2, QuasiVuota_T3_0]]                 |\n",
      "|[[Vuota_T0_1, Vuota_T0_1, QuasiVuota_T0_2, QuasiVuota_T0_0, QuasiVuota_T0_2, Vuota_T0_1], [Vuota_T1_1, Vuota_T1_1, Vuota_T1_1, QuasiVuota_T1_2, QuasiVuota_T1_2, QuasiVuota_T1_0], [QuasiVuota_T2_2, QuasiVuota_T2_2, QuasiVuota_T2_1, Vuota_T2_1, Vuota_T2_1, Vuota_T2_1], [Vuota_T3_1, QuasiVuota_T3_1, QuasiVuota_T3_2, QuasiVuota_T3_2, Vuota_T3_1]]                         |\n",
      "|[[Vuota_T0_2, Vuota_T0_1, QuasiVuota_T0_3, QuasiVuota_T0_2, QuasiVuota_T0_0, Vuota_T0_2], [Vuota_T1_1, Vuota_T1_2, Vuota_T1_2, QuasiVuota_T1_3, QuasiVuota_T1_0, QuasiVuota_T1_2], [QuasiVuota_T2_0, QuasiVuota_T2_3, QuasiVuota_T2_1, Vuota_T2_2, Vuota_T2_1, Vuota_T2_2], [Vuota_T3_2, QuasiVuota_T3_2, QuasiVuota_T3_3, QuasiVuota_T3_0, Vuota_T3_2]]                         |\n",
      "|[[Vuota_T0_1, Vuota_T0_1, QuasiVuota_T0_1, QuasiVuota_T0_1, QuasiVuota_T0_2, Vuota_T0_0], [Vuota_T1_1, Vuota_T1_1, Vuota_T1_0, QuasiVuota_T1_1, QuasiVuota_T1_2, QuasiVuota_T1_1], [QuasiVuota_T2_2, QuasiVuota_T2_1, QuasiVuota_T2_1, Vuota_T2_1, Vuota_T2_1, Vuota_T2_0], [Vuota_T3_1, QuasiVuota_T3_1, QuasiVuota_T3_1, QuasiVuota_T3_2, Vuota_T3_0]]                         |\n",
      "|[[Vuota_T0_0, Vuota_T0_1, Vuota_T0_1, QuasiVuota_T0_2, QuasiVuota_T0_1, QuasiVuota_T0_1], [QuasiVuota_T1_1, QuasiVuota_T1_2, QuasiVuota_T1_0, Vuota_T1_1, Vuota_T1_0, Vuota_T1_1], [Vuota_T2_1, QuasiVuota_T2_1, QuasiVuota_T2_2, QuasiVuota_T2_1, Vuota_T2_1], [QuasiVuota_T3_1, QuasiVuota_T3_1, Vuota_T3_1, QuasiVuota_T3_2]]                                                 |\n",
      "+---------------------------------------------------------------------------------------------------------------------------------------------------------------------------------------------------------------------------------------------------------------------------------------------------------------------------------------------------------------------------------+\n",
      "only showing top 10 rows\n",
      "\n"
     ]
    }
   ],
   "source": [
    "df.show(10,False)"
   ]
  },
  {
   "cell_type": "code",
   "execution_count": 180,
   "id": "tutorial-toddler",
   "metadata": {},
   "outputs": [
    {
     "name": "stdout",
     "output_type": "stream",
     "text": [
      "0.05\n"
     ]
    },
    {
     "name": "stderr",
     "output_type": "stream",
     "text": [
      "IOPub data rate exceeded.\n",
      "The notebook server will temporarily stop sending output\n",
      "to the client in order to avoid crashing it.\n",
      "To change this limit, set the config variable\n",
      "`--NotebookApp.iopub_data_rate_limit`.\n",
      "\n",
      "Current values:\n",
      "NotebookApp.iopub_data_rate_limit=1000000.0 (bytes/sec)\n",
      "NotebookApp.rate_limit_window=3.0 (secs)\n",
      "\n"
     ]
    }
   ],
   "source": [
    "#prefixspan to obtain sequence and frequence\n",
    "counter=[]\n",
    "for support in supports:\n",
    "    print(support)\n",
    "    prefixSpan = PrefixSpan(minSupport=support, maxPatternLength=5,\n",
    "                        maxLocalProjDBSize=5000)\n",
    "    prefix=prefixSpan.findFrequentSequentialPatterns(df)   \n",
    "    len_prefix=prefix.count()    \n",
    "    prefix.show(len_prefix,False)\n",
    "    counter.append(len_prefix)"
   ]
  },
  {
   "cell_type": "code",
   "execution_count": 181,
   "id": "charming-visibility",
   "metadata": {},
   "outputs": [
    {
     "data": {
      "text/plain": [
       "172188"
      ]
     },
     "execution_count": 181,
     "metadata": {},
     "output_type": "execute_result"
    }
   ],
   "source": [
    "len_prefix"
   ]
  },
  {
   "cell_type": "code",
   "execution_count": 182,
   "id": "defensive-robin",
   "metadata": {},
   "outputs": [],
   "source": [
    "pre=prefix.rdd.map(tuple)"
   ]
  },
  {
   "cell_type": "code",
   "execution_count": null,
   "id": "likely-standing",
   "metadata": {},
   "outputs": [],
   "source": [
    "pre.collect()\n",
    "\n",
    "# RESULTS FOR A TIME INTERVAL = 30 min (3-3)\n",
    "# [([['Vuota_T0_0']], 53520),\n",
    "#  ([['QuasiPiena_T2_2']], 145879),\n",
    "#  ([['Piena_T0_3']], 29987),\n",
    "#  ([['Vuota_T1_3']], 46168),\n",
    "#  ([['Piena_T0_0']], 33492),\n",
    "#  ([['QuasiPiena_T2_1']], 115376),, ... ]\n",
    "\n",
    "# RESULTS FOR A TIME INTERVAL = 15 min (3-3)\n",
    "# [([['Piena_T0_2']], 75136),\n",
    "#  ([['QuasiPiena_T0_2']], 224242),\n",
    "#  ([['Piena_T0_0']], 47933),\n",
    "#  ([['Vuota_T0_3']], 60740),\n",
    "#  ([['Vuota_T2_0']], 52642), ...]\n",
    "\n",
    "# RESULTS FOR A TIME INTERVAL = 15 min (4-3)\n",
    "# [([['Vuota_T1_2']], 108561),\n",
    "#  ([['Piena_T1_3']], 38501),\n",
    "#  ([['Piena_T3_3']], 37957),\n",
    "#  ([['QuasiPiena_T2_2']], 225254),\n",
    "#  ([['Piena_T2_2']], 75445), ...]"
   ]
  },
  {
   "cell_type": "code",
   "execution_count": 184,
   "id": "rocky-physics",
   "metadata": {},
   "outputs": [],
   "source": [
    "def giveSelected(line):\n",
    "    seq=line[0]\n",
    "    found=False   \n",
    "    for window in seq:\n",
    "        for el in window:\n",
    "            if 'T0' in el and '_0' in el:\n",
    "                found=True\n",
    "                break\n",
    "    return found "
   ]
  },
  {
   "cell_type": "code",
   "execution_count": 185,
   "id": "aggressive-warren",
   "metadata": {},
   "outputs": [],
   "source": [
    "giveT0=pre.filter(giveSelected)"
   ]
  },
  {
   "cell_type": "code",
   "execution_count": null,
   "id": "increased-deficit",
   "metadata": {},
   "outputs": [],
   "source": [
    "# giveT0.collect()\n",
    "\n",
    "# RESULTS FOR A TIME INTERVAL = 30 min (3-3)\n",
    "# [([['Vuota_T0_0']], 53520),\n",
    "#  ([['Piena_T0_0']], 33492),\n",
    "#  ([['QuasiVuota_T0_0']], 153451),\n",
    "#  ([['QuasiPiena_T0_0']], 109674), ...]\n",
    "\n",
    "# RESULTS FOR A TIME INTERVAL = 15 min (3-3)\n",
    "# [([['Piena_T0_0']], 47933),\n",
    "#  ([['QuasiVuota_T0_0']], 254443),\n",
    "#  ([['QuasiPiena_T0_0']], 184907),\n",
    "#  ([['Vuota_T0_0']], 75483), ...]\n",
    "\n",
    "# RESULTS FOR A TIME INTERVAL = 15 min (4-3)\n",
    "# [([['Vuota_T0_0']], 75483),\n",
    "#  ([['QuasiPiena_T0_0']], 184907),\n",
    "#  ([['QuasiVuota_T0_0']], 254443),\n",
    "#  ([['Piena_T0_0']], 47933), ...]"
   ]
  },
  {
   "cell_type": "code",
   "execution_count": 187,
   "id": "graduate-granny",
   "metadata": {},
   "outputs": [],
   "source": [
    "df2=giveT0.toDF().withColumnRenamed('_1','sequence')\n",
    "df2=df2.withColumnRenamed('_2','freq')#.show(len_prefix,False)"
   ]
  },
  {
   "cell_type": "code",
   "execution_count": 188,
   "id": "straight-illness",
   "metadata": {},
   "outputs": [],
   "source": [
    "def mapValues(line):\n",
    "    seq=line[0]\n",
    "    final=''\n",
    "    #voc[seq]=line[1]\n",
    "    for i,window in enumerate(seq):\n",
    "        if i>0:\n",
    "            final+='-'\n",
    "        for j,el in enumerate(window):\n",
    "            if j>0:\n",
    "                final+=','\n",
    "            final+=el\n",
    "    final+=(';'+str(line[1])+';'+str(i))\n",
    "    return final  "
   ]
  },
  {
   "cell_type": "code",
   "execution_count": 189,
   "id": "atomic-broadway",
   "metadata": {},
   "outputs": [],
   "source": [
    "mapDict=giveT0.map(mapValues)"
   ]
  },
  {
   "cell_type": "code",
   "execution_count": null,
   "id": "powerful-married",
   "metadata": {},
   "outputs": [],
   "source": [
    "# mapDict.collect()\n",
    "\n",
    "# RESULTS FOR A TIME INTERVAL = 30 min (3-3)\n",
    "# ['Vuota_T0_0;53520;0',\n",
    "#  'Piena_T0_0;33492;0',\n",
    "#  'QuasiVuota_T0_0;153451;0',\n",
    "#  'QuasiPiena_T0_0;109674;0...]\n",
    "\n",
    "# RESULTS FOR A TIME INTERVAL = 15 min (3-3)\n",
    "# ['Piena_T0_0;47933;0',\n",
    "#  'QuasiVuota_T0_0;254443;0',\n",
    "#  'QuasiPiena_T0_0;184907;0',\n",
    "#  'Vuota_T0_0;75483;0', ...]\n",
    "\n",
    "# RESULTS FOR A TIME INTERVAL = 15 min (4-3)\n",
    "# ['Vuota_T0_0;75483;0',\n",
    "#  'QuasiPiena_T0_0;184907;0',\n",
    "#  'QuasiVuota_T0_0;254443;0',\n",
    "#  'Piena_T0_0;47933;0', ...]"
   ]
  },
  {
   "cell_type": "code",
   "execution_count": 191,
   "id": "distant-feeling",
   "metadata": {},
   "outputs": [],
   "source": [
    "li=mapDict.collect()\n",
    "voc={}"
   ]
  },
  {
   "cell_type": "code",
   "execution_count": 192,
   "id": "animated-chuck",
   "metadata": {},
   "outputs": [],
   "source": [
    "for el in li:\n",
    "    splits=el.split(';')\n",
    "    voc[splits[0]]=int(splits[1])"
   ]
  },
  {
   "cell_type": "code",
   "execution_count": null,
   "id": "twelve-median",
   "metadata": {},
   "outputs": [],
   "source": [
    "# voc\n",
    "\n",
    "# RESULTS FOR A TIME INTERVAL = 30 min (3-3)\n",
    "# {'Vuota_T0_0': 53520,\n",
    "#  'Piena_T0_0': 33492,\n",
    "#  'QuasiVuota_T0_0': 153451,\n",
    "#  'QuasiPiena_T0_0': 109674, ...]\n",
    "\n",
    "# RESULTS FOR A TIME INTERVAL = 15 min (3-3)\n",
    "# {'Piena_T0_0': 47933,\n",
    "#  'QuasiVuota_T0_0': 254443,\n",
    "#  'QuasiPiena_T0_0': 184907,\n",
    "#  'Vuota_T0_0': 75483, ...]\n",
    "\n",
    "# RESULTS FOR A TIME INTERVAL = 15 min (4-3)\n",
    "# {'Vuota_T0_0': 75483,\n",
    "#  'QuasiPiena_T0_0': 184907,\n",
    "#  'QuasiVuota_T0_0': 254443,\n",
    "#  'Piena_T0_0': 47933, ...]"
   ]
  },
  {
   "cell_type": "code",
   "execution_count": 194,
   "id": "sharing-truth",
   "metadata": {},
   "outputs": [
    {
     "data": {
      "text/plain": [
       "3146"
      ]
     },
     "execution_count": 194,
     "metadata": {},
     "output_type": "execute_result"
    }
   ],
   "source": [
    "repeated_el_window=0\n",
    "for el in voc.keys():\n",
    "    flag_rep=False\n",
    "    windows=el.split('-')\n",
    "    for w in windows:\n",
    "        tot_items=len(w.split(','))\n",
    "        set_items=len(set(w.split(',')))\n",
    "        if tot_items!=set_items:\n",
    "            repeated_el_window+=1\n",
    "            break\n",
    "repeated_el_window"
   ]
  },
  {
   "cell_type": "code",
   "execution_count": 195,
   "id": "owned-child",
   "metadata": {},
   "outputs": [],
   "source": [
    "voc_supports={}\n",
    "for el in voc.keys():    \n",
    "    if len(el.split('-'))>1:        \n",
    "        num=int(voc[el])       \n",
    "        string=''\n",
    "        tot=el.split('-')[:-1]\n",
    "        for k,station in enumerate(tot):\n",
    "            if k>0:\n",
    "                string+='-'\n",
    "            string+=station\n",
    "        #print(string)\n",
    "        den=int(voc[string])\n",
    "        voc_supports[el]=str(num/den)+' - '+str(voc[el])\n",
    "keys=list(voc_supports.keys())\n",
    "values=list(voc_supports.values())"
   ]
  },
  {
   "cell_type": "code",
   "execution_count": 196,
   "id": "bright-democrat",
   "metadata": {},
   "outputs": [],
   "source": [
    "#sort vocabulary by decreasing values and sort within each window\n",
    "for key in voc_supports:    \n",
    "    splitted=key.split('-')      \n",
    "    splitted.sort()\n",
    "# voc_supports = dict(sorted(voc_supports.items(), key=operator.itemgetter(1),reverse=True))\n",
    "voc_supports = dict(sorted(voc_supports.items(), \n",
    "                           key=lambda v: (float(v[1].split(' - ')[0]), int(v[1].split(' - ')[1])),\n",
    "                           reverse=True))"
   ]
  },
  {
   "cell_type": "code",
   "execution_count": 197,
   "id": "authorized-accounting",
   "metadata": {},
   "outputs": [
    {
     "data": {
      "text/plain": [
       "24100"
      ]
     },
     "execution_count": 197,
     "metadata": {},
     "output_type": "execute_result"
    }
   ],
   "source": [
    "len(voc_supports)"
   ]
  },
  {
   "cell_type": "code",
   "execution_count": 198,
   "id": "judicial-shannon",
   "metadata": {},
   "outputs": [],
   "source": [
    "# output_file='results_..._ordered_by_confidence.txt'\n",
    "file = open(output_file, \"w\")"
   ]
  },
  {
   "cell_type": "code",
   "execution_count": 199,
   "id": "obvious-finish",
   "metadata": {},
   "outputs": [],
   "source": [
    "list_pattern=[]"
   ]
  },
  {
   "cell_type": "code",
   "execution_count": 200,
   "id": "parallel-orlando",
   "metadata": {},
   "outputs": [],
   "source": [
    "for el in voc_supports:\n",
    "    key_list=[]\n",
    "    for e in el.split('-'):\n",
    "        key_list.append([e])\n",
    "    list_pattern.append([[key_list], [voc_supports[el]]])"
   ]
  },
  {
   "cell_type": "code",
   "execution_count": 201,
   "id": "saved-trick",
   "metadata": {},
   "outputs": [],
   "source": [
    "file.write('Pattern, Confidence-Frequence'+'\\n')\n",
    "file.write(f'Total number of input patterns: {len(voc_supports)}'+'\\n')\n",
    "for el in list_pattern:  \n",
    "    file.write(str(el)+ '\\n')    \n",
    "file.close() "
   ]
  },
  {
   "cell_type": "code",
   "execution_count": 202,
   "id": "emerging-nomination",
   "metadata": {},
   "outputs": [],
   "source": [
    "# output_file4='results_..._ordered_by_support.txt'\n",
    "file4 = open(output_file4, \"w\")"
   ]
  },
  {
   "cell_type": "code",
   "execution_count": 203,
   "id": "prompt-syndication",
   "metadata": {},
   "outputs": [],
   "source": [
    "#order list fist by support and then by confidence\n",
    "list_ordered_by_support = sorted(list_pattern,\n",
    "                                 key=lambda v: (int(v[1][0].split(\" - \")[1]), float(v[1][0].split(\" - \")[0])),\n",
    "                                 reverse=True)"
   ]
  },
  {
   "cell_type": "code",
   "execution_count": 204,
   "id": "specific-shower",
   "metadata": {},
   "outputs": [],
   "source": [
    "file4.write('Pattern, Confidence-Frequence'+'\\n')\n",
    "file4.write(f'Total number of input patterns: {len(voc_supports)}'+'\\n')\n",
    "for el in list_ordered_by_support:  \n",
    "    file4.write(str(el)+ '\\n')    \n",
    "file4.close() "
   ]
  },
  {
   "cell_type": "code",
   "execution_count": 205,
   "id": "corporate-essay",
   "metadata": {},
   "outputs": [],
   "source": [
    "tot_list=[]\n",
    "for i, j in zip(keys,values):\n",
    "    key_list=[]\n",
    "    for el in i.split('-'):\n",
    "        key_list.append([el])\n",
    "    tot_list.append([[key_list], [j]])"
   ]
  },
  {
   "cell_type": "code",
   "execution_count": 206,
   "id": "reflected-overview",
   "metadata": {},
   "outputs": [],
   "source": [
    "confidence=[]\n",
    "for el in values:\n",
    "    val=round(float(el.split(' - ')[0]),2)\n",
    "    confidence.append(val)\n",
    "#confidence    "
   ]
  },
  {
   "cell_type": "code",
   "execution_count": 207,
   "id": "artificial-election",
   "metadata": {},
   "outputs": [
    {
     "data": {
      "image/png": "[encoded data removed]",
      "text/plain": [
       "<Figure size 432x288 with 1 Axes>"
      ]
     },
     "metadata": {
      "needs_background": "light"
     },
     "output_type": "display_data"
    }
   ],
   "source": [
    "plt.hist(confidence)\n",
    "plt.xlabel('Confidence')\n",
    "plt.ylabel('Number of patterns')\n",
    "plt.title(f'{maxDelta} threshold spaziale, {window_size} threshold temporale {th*1000} m e supporto {support}')\n",
    "plt.xlim(0.3,1)\n",
    "plt.savefig(img_support)\n",
    "plt.show()"
   ]
  },
  {
   "cell_type": "code",
   "execution_count": 217,
   "id": "fifth-bonus",
   "metadata": {},
   "outputs": [
    {
     "name": "stdout",
     "output_type": "stream",
     "text": [
      "FILTER PATTERNS WITH AT LEAST 1 T0, DELTA S=0 AND AT LEAST 1 PATTERN WITH AT LEAST 1 PATTERN WITH DELTA S DIFFERENT FROM 0 AND DELTA T DIFFERENT FROM 0\n"
     ]
    }
   ],
   "source": [
    "print('FILTER PATTERNS WITH AT LEAST 1 T0, DELTA S=0 AND AT LEAST 1 PATTERN WITH AT LEAST 1 PATTERN WITH DELTA S DIFFERENT FROM 0 AND DELTA T DIFFERENT FROM 0')"
   ]
  },
  {
   "cell_type": "code",
   "execution_count": 218,
   "id": "exceptional-royal",
   "metadata": {},
   "outputs": [],
   "source": [
    "list_influenze=[]\n",
    "for el in voc_supports.keys():\n",
    "    delta_spaziale=False\n",
    "    if ('-' in el):\n",
    "        all_windows_list=el.split('-')\n",
    "        if ('T0_0' in all_windows_list[0] ):\n",
    "            for cons_window in all_windows_list[1::]:\n",
    "                if ',' in cons_window:\n",
    "                    for item in cons_window.split(','):                       \n",
    "                        act_delta=int(item.split('_')[2])\n",
    "                        if act_delta!=0:\n",
    "                            delta_spaziale=True\n",
    "    if delta_spaziale==True:        \n",
    "        key_list=[]            \n",
    "        for e in el.split('-'):\n",
    "            key_list.append([e])\n",
    "        list_influenze.append([[key_list], [voc_supports[el]]])"
   ]
  },
  {
   "cell_type": "code",
   "execution_count": 219,
   "id": "shared-software",
   "metadata": {},
   "outputs": [],
   "source": [
    "# output_file3='results_..._diff_delta_ordered_by_confidence.txt'\n",
    "file3 = open(output_file3, \"w\")"
   ]
  },
  {
   "cell_type": "code",
   "execution_count": 220,
   "id": "rotary-detective",
   "metadata": {},
   "outputs": [],
   "source": [
    "lung_different_time_space=0\n",
    "if len(list_influenze)!=0:\n",
    "    df_supports=sc.parallelize(list_influenze).toDF().withColumnRenamed('_1','sequence')\n",
    "    df_supports=df_supports.withColumnRenamed('_2','confidence-freq')\n",
    "    lung_different_time_space=df_supports.count() \n",
    "    #df_supports.show(lung_different_time_space,False)\n",
    "    #print(lung_different_time_space)"
   ]
  },
  {
   "cell_type": "code",
   "execution_count": 233,
   "id": "polished-happiness",
   "metadata": {},
   "outputs": [
    {
     "data": {
      "text/plain": [
       "15289"
      ]
     },
     "execution_count": 233,
     "metadata": {},
     "output_type": "execute_result"
    }
   ],
   "source": [
    "len(list_influenze)"
   ]
  },
  {
   "cell_type": "code",
   "execution_count": 221,
   "id": "guilty-lawyer",
   "metadata": {},
   "outputs": [],
   "source": [
    "file3.write('Pattern, Confidence-Frequence'+'\\n')\n",
    "file3.write(f'Total number of input patterns: {len(list_influenze)}'+'\\n')\n",
    "if len(list_influenze)!=0:\n",
    "    for el in list_influenze:       \n",
    "        file3.write(str(el)+'\\n')\n",
    "file3.close()"
   ]
  },
  {
   "cell_type": "code",
   "execution_count": 222,
   "id": "distributed-drove",
   "metadata": {},
   "outputs": [],
   "source": [
    "# output_file6='results_..._diff_delta_ordered_by_support.txt'\n",
    "file6 = open(output_file6, \"w\")"
   ]
  },
  {
   "cell_type": "code",
   "execution_count": 223,
   "id": "iraqi-typing",
   "metadata": {},
   "outputs": [],
   "source": [
    "#order list first by support and then by confidence\n",
    "list_influenze_ordered_by_support = sorted(list_influenze,\n",
    "                                           key=lambda v: (int(v[1][0].split(\" - \")[1]), float(v[1][0].split(\" - \")[0])),\n",
    "                                           reverse=True)"
   ]
  },
  {
   "cell_type": "code",
   "execution_count": 224,
   "id": "improving-protocol",
   "metadata": {},
   "outputs": [],
   "source": [
    "file6.write('Pattern, Confidence-Frequence'+'\\n')\n",
    "file6.write(f'Total number of input patterns: {len(list_influenze_ordered_by_support)}'+'\\n')\n",
    "if len(list_influenze_ordered_by_support)!=0:\n",
    "    for el in list_influenze_ordered_by_support:       \n",
    "        file6.write(str(el)+'\\n')\n",
    "file6.close()"
   ]
  },
  {
   "cell_type": "code",
   "execution_count": 225,
   "id": "prostate-machine",
   "metadata": {},
   "outputs": [
    {
     "name": "stdout",
     "output_type": "stream",
     "text": [
      "The number of patterns in the pre-filter is: 172188\n"
     ]
    }
   ],
   "source": [
    "print(f'The number of patterns in the pre-filter is: {len_prefix}')"
   ]
  },
  {
   "cell_type": "code",
   "execution_count": 226,
   "id": "unique-textbook",
   "metadata": {},
   "outputs": [
    {
     "name": "stdout",
     "output_type": "stream",
     "text": [
      "The number of items after the filter with at least 2 windows and at least a T0 and delta 0 is: 24100\n"
     ]
    }
   ],
   "source": [
    "print(f'The number of items after the filter with at least 2 windows and at least a T0 and delta 0 is: {len(voc_supports)}')"
   ]
  },
  {
   "cell_type": "code",
   "execution_count": 227,
   "id": "consecutive-commons",
   "metadata": {},
   "outputs": [],
   "source": [
    "# print('STATISTICS about sequences with at least 2 windows_T0_delta0')\n",
    "# print(f'The average number of windows is: {avg_window}')\n",
    "# print(f'The minimum number of windows is: {min_window}')\n",
    "# print(f'The maximum number of windows is: {max_window}')\n",
    "# print(f'The average number of items is: {avg_items}')\n",
    "# print(f'The minimum number of items is: {min_items}')\n",
    "# print(f'The maximum number of items is: {max_items}')"
   ]
  },
  {
   "cell_type": "code",
   "execution_count": 228,
   "id": "coordinated-neutral",
   "metadata": {},
   "outputs": [],
   "source": [
    "# print(f'The number of patterns in which there is at least one item that repeats within a window is: {repeated_el_window} ')"
   ]
  },
  {
   "cell_type": "code",
   "execution_count": 229,
   "id": "first-judge",
   "metadata": {},
   "outputs": [],
   "source": [
    "# print(f'The number of patterns with at least 1 event QuasiVuota and 1 event Vuota is: {lung_vuota_quasi_vuota}')"
   ]
  },
  {
   "cell_type": "code",
   "execution_count": 230,
   "id": "occupied-civilization",
   "metadata": {},
   "outputs": [],
   "source": [
    "#  print(f'The number of patterns with at least 1 T0, DELTA S=0 and at least 1 pattern with at least 1 pattern with DELTA S different from 0 and DELTA T different from 0 is: {lung_different_time_space}')"
   ]
  },
  {
   "cell_type": "code",
   "execution_count": 231,
   "id": "sitting-correction",
   "metadata": {},
   "outputs": [
    {
     "name": "stdout",
     "output_type": "stream",
     "text": [
      "The time of execution is: 32584.27987217903 s\n"
     ]
    }
   ],
   "source": [
    "end = time.time()\n",
    "print(f'The time of execution is: {end-start} s')"
   ]
  },
  {
   "cell_type": "code",
   "execution_count": null,
   "id": "genuine-spencer",
   "metadata": {},
   "outputs": [],
   "source": []
  }
 ],
 "metadata": {
  "kernelspec": {
   "display_name": "PySpark (Yarn)",
   "language": "python",
   "name": "pyspark_yarn"
  },
  "language_info": {
   "codemirror_mode": {
    "name": "ipython",
    "version": 3
   },
   "file_extension": ".py",
   "mimetype": "text/x-python",
   "name": "python",
   "nbconvert_exporter": "python",
   "pygments_lexer": "ipython3",
   "version": "3.7.9"
  }
 },
 "nbformat": 4,
 "nbformat_minor": 5
}
